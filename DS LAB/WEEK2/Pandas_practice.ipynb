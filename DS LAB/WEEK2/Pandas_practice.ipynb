{
 "cells": [
  {
   "cell_type": "code",
   "execution_count": 1,
   "id": "martial-disney",
   "metadata": {},
   "outputs": [
    {
     "name": "stdout",
     "output_type": "stream",
     "text": [
      "sum=  25\n",
      "\n",
      "\n",
      "min=  -2\n",
      "\n",
      "\n",
      "max=  10\n"
     ]
    }
   ],
   "source": [
    "import numpy as np\n",
    "import pandas as pd\n",
    "s=pd.Series([3,9,-2,10,5])\n",
    "sm=s.sum()\n",
    "print('sum= ',sm)\n",
    "print('\\n')\n",
    "mn=s.min()\n",
    "print('min= ',mn)\n",
    "mx=s.max()\n",
    "print('\\n')\n",
    "print('max= ',mx)\n"
   ]
  },
  {
   "cell_type": "code",
   "execution_count": 2,
   "id": "initial-tunnel",
   "metadata": {},
   "outputs": [
    {
     "name": "stdout",
     "output_type": "stream",
     "text": [
      "     name  age\n",
      "0  Hritik   21\n",
      "1   Vijay   39\n",
      "2   Raman   56\n"
     ]
    }
   ],
   "source": [
    "import pandas as pd\n",
    "data=[['Hritik',21],['Vijay',39],['Raman',56]]\n",
    "df=pd.DataFrame(data,columns=['name','age'])\n",
    "print(df)\n"
   ]
  },
  {
   "cell_type": "code",
   "execution_count": 3,
   "id": "generous-charlotte",
   "metadata": {},
   "outputs": [
    {
     "name": "stdout",
     "output_type": "stream",
     "text": [
      "         Name  age\n",
      "rank1  Hritik   21\n",
      "rank2   Vijay   39\n",
      "rank3   Raman   56\n"
     ]
    }
   ],
   "source": [
    "import pandas as pd\n",
    "data = {'Name':['Hritik','Vijay','Raman'],'age':[21,39,56]}\n",
    "df=pd.DataFrame(data,index=['rank1','rank2','rank3'])\n",
    "print(df)\n"
   ]
  },
  {
   "cell_type": "code",
   "execution_count": 6,
   "id": "beautiful-collect",
   "metadata": {},
   "outputs": [
    {
     "name": "stdout",
     "output_type": "stream",
     "text": [
      "           A  B       C\n",
      "0 2013-01-02  3    Male\n",
      "1 2013-01-02  3  Female\n",
      "2 2013-01-02  3    Male\n",
      "3 2013-01-02  3  Female\n",
      "\n",
      "\n",
      "(4, 3)\n",
      "\n",
      "\n",
      "A    datetime64[ns]\n",
      "B             int32\n",
      "C          category\n",
      "dtype: object\n",
      "\n",
      "\n",
      "           A  B       C\n",
      "0 2013-01-02  3    Male\n",
      "1 2013-01-02  3  Female\n",
      "2 2013-01-02  3    Male\n",
      "3 2013-01-02  3  Female\n",
      "\n",
      "\n",
      "           A  B       C\n",
      "0 2013-01-02  3    Male\n",
      "1 2013-01-02  3  Female\n",
      "2 2013-01-02  3    Male\n",
      "3 2013-01-02  3  Female\n",
      "\n",
      "\n",
      "                     0                    1                    2  \\\n",
      "A  2013-01-02 00:00:00  2013-01-02 00:00:00  2013-01-02 00:00:00   \n",
      "B                    3                    3                    3   \n",
      "C                 Male               Female                 Male   \n",
      "\n",
      "                     3  \n",
      "A  2013-01-02 00:00:00  \n",
      "B                    3  \n",
      "C               Female  \n"
     ]
    }
   ],
   "source": [
    "import pandas as pd\n",
    "import numpy as np\n",
    "df1=pd.DataFrame({'A':pd.Timestamp('20130102'),'B':np.array([3]*4,dtype='int32'), 'C':pd.Categorical(['Male','Female','Male','Female'])})\n",
    "print(df1)\n",
    "print('\\n')\n",
    "print(df1.shape)\n",
    "print('\\n')\n",
    "print(df1.dtypes)\n",
    "print('\\n')\n",
    "print(df1.head())\n",
    "print('\\n')\n",
    "print(df1.tail())\n",
    "print('\\n')\n",
    "print(df1.T)\n",
    "\n"
   ]
  },
  {
   "cell_type": "code",
   "execution_count": 12,
   "id": "white-future",
   "metadata": {},
   "outputs": [
    {
     "name": "stdout",
     "output_type": "stream",
     "text": [
      "           A  B       C\n",
      "0 2013-01-02  3    Male\n",
      "1 2013-01-02  3  Female\n",
      "2 2013-01-02  3    Male\n",
      "3 2013-01-02  3  Female\n",
      "\n",
      "\n",
      "           A  B       C\n",
      "0 2013-01-02  3    Male\n",
      "1 2013-01-02  3  Female\n",
      "2 2013-01-02  3    Male\n",
      "3 2013-01-02  3  Female\n",
      "\n",
      "\n",
      "           A  B       C\n",
      "0 2013-01-02  3    Male\n",
      "1 2013-01-02  3  Female\n",
      "2 2013-01-02  3    Male\n",
      "3 2013-01-02  3  Female\n",
      "\n",
      "\n",
      "RangeIndex(start=0, stop=4, step=1)\n",
      "\n",
      "\n",
      "Index(['A', 'B', 'C'], dtype='object')\n",
      "\n",
      "\n",
      "                     0                    1                    2  \\\n",
      "A  2013-01-02 00:00:00  2013-01-02 00:00:00  2013-01-02 00:00:00   \n",
      "B                    3                    3                    3   \n",
      "C                 Male               Female                 Male   \n",
      "\n",
      "                     3  \n",
      "A  2013-01-02 00:00:00  \n",
      "B                    3  \n",
      "C               Female  \n"
     ]
    }
   ],
   "source": [
    "import pandas as pd\n",
    "import numpy as np\n",
    "data = {'Name':['Hritik','Vijay','Raman'],'age':[21,39,56]}\n",
    "df=pd.DataFrame(data,index=['rank1','rank2','rank3'])\n",
    "#print(df)\n",
    "df1=pd.DataFrame({'A':pd.Timestamp('20130102'),'B':np.array([3]*4,dtype='int32'), 'C':pd.Categorical(['Male','Female','Male','Female'])})\n",
    "print(df1)\n",
    "print('\\n')\n",
    "print(df1.head())\n",
    "print('\\n')\n",
    "print(df1.tail())\n",
    "print('\\n')\n",
    "print(df1.index)\n",
    "print('\\n')\n",
    "print(df1.columns)\n",
    "print('\\n')\n",
    "print(df1.T)\n",
    "\n"
   ]
  },
  {
   "cell_type": "code",
   "execution_count": 7,
   "id": "statistical-fiction",
   "metadata": {},
   "outputs": [
    {
     "name": "stdout",
     "output_type": "stream",
     "text": [
      "(3, 2)\n",
      "(5, 2)\n",
      "(5, 4)\n",
      "(8, 2)\n",
      "     Name  Age\n",
      "0  Hritik   10\n",
      "1   Vijay   12\n",
      "2   Raman   13\n"
     ]
    }
   ],
   "source": [
    "import pandas as pd\n",
    "data=[['Hritik',10],['Vijay',12],['Raman',13]]\n",
    "df1=pd.DataFrame(data,columns=['Name','Age'])\n",
    "data2 = [['vinay',10],['Ravi',12],['raj',13],['donald',22],['ram',45]]\n",
    "df2=pd.DataFrame(data2,columns=['Name','Age'])\n",
    "print(df1.shape)\n",
    "print(df2.shape)\n",
    "Df_new= pd.concat ((df1, df2), axis=1)\n",
    "print(Df_new.shape)\n",
    "Df_new2=pd.concat((df1,df2),axis=0)\n",
    "print(Df_new2.shape)\n",
    "print(df1.sort_values(by='Age'))\n"
   ]
  },
  {
   "cell_type": "code",
   "execution_count": null,
   "id": "tracked-sound",
   "metadata": {},
   "outputs": [],
   "source": []
  }
 ],
 "metadata": {
  "kernelspec": {
   "display_name": "Python 3",
   "language": "python",
   "name": "python3"
  },
  "language_info": {
   "codemirror_mode": {
    "name": "ipython",
    "version": 3
   },
   "file_extension": ".py",
   "mimetype": "text/x-python",
   "name": "python",
   "nbconvert_exporter": "python",
   "pygments_lexer": "ipython3",
   "version": "3.6.9"
  }
 },
 "nbformat": 4,
 "nbformat_minor": 5
}
